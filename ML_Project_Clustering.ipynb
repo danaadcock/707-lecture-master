{
  "cells": [
    {
      "cell_type": "markdown",
      "metadata": {
        "colab_type": "text",
        "id": "view-in-github"
      },
      "source": [
        "<a href=\"https://colab.research.google.com/github/danaadcock/707-lecture-master/blob/main/ML_Project_Clustering.ipynb\" target=\"_parent\"><img src=\"https://colab.research.google.com/assets/colab-badge.svg\" alt=\"Open In Colab\"/></a>"
      ]
    },
    {
      "cell_type": "code",
      "execution_count": 1,
      "metadata": {
        "id": "eyUlwxB1TIre"
      },
      "outputs": [],
      "source": [
        "import numpy as np\n",
        "import matplotlib.pyplot as plt\n",
        "import seaborn as sns\n",
        "from pandas.plotting import scatter_matrix"
      ]
    },
    {
      "cell_type": "code",
      "execution_count": 2,
      "metadata": {
        "id": "nYsMWGzNTv74"
      },
      "outputs": [],
      "source": [
        "import pandas as pd\n",
        "\n",
        "# Read the file with specified encoding\n",
        "x_resampled = pd.read_csv('data/x_resampled.csv', encoding='utf-8')\n"
      ]
    },
    {
      "cell_type": "code",
      "execution_count": 3,
      "metadata": {
        "id": "KAPFe5que3gZ"
      },
      "outputs": [],
      "source": [
        "# Provide the full path to the file\n",
        "file_path = \"data/y_resampled.csv\"\n",
        "\n",
        "# Read the file with specified encoding\n",
        "y_resampled = pd.read_csv(file_path, encoding='utf-8')"
      ]
    },
    {
      "cell_type": "code",
      "execution_count": 4,
      "metadata": {
        "colab": {
          "base_uri": "https://localhost:8080/",
          "height": 1000
        },
        "id": "2zgEksrdZphS",
        "outputId": "68adf269-f934-4248-8944-df7be75548d2"
      },
      "outputs": [
        {
          "data": {
            "image/png": "[encoded data removed]",
            "text/plain": [
              "<Figure size 640x480 with 1 Axes>"
            ]
          },
          "metadata": {},
          "output_type": "display_data"
        }
      ],
      "source": [
        "import matplotlib.pyplot as plt\n",
        "import numpy as np\n",
        "from sklearn.cluster import KMeans\n",
        "from sklearn.metrics import silhouette_score\n",
        "\n",
        "# Function to calculate the distortion for a range of cluster counts\n",
        "def calculate_distortion(data, max_clusters):\n",
        "    distortions = []\n",
        "    for i in range(1, max_clusters + 1):\n",
        "        kmeans = KMeans(n_clusters=i, random_state=42)\n",
        "        kmeans.fit(data)\n",
        "        distortions.append(kmeans.inertia_)\n",
        "    return distortions\n",
        "\n",
        "# Function to plot the elbow curve\n",
        "def plot_elbow_curve(distortions):\n",
        "    plt.plot(range(1, len(distortions) + 1), distortions, marker='o')\n",
        "    plt.title('Elbow Method')\n",
        "    plt.xlabel('Number of clusters')\n",
        "    plt.ylabel('Distortion')\n",
        "    plt.show()\n",
        "\n",
        "# Calculate distortion for a range of cluster counts\n",
        "max_clusters = 20  # You can adjust this based on your dataset and requirements\n",
        "distortions = calculate_distortion(x_resampled, max_clusters)\n",
        "\n",
        "# Plot the elbow curve\n",
        "plot_elbow_curve(distortions)"
      ]
    },
    {
      "cell_type": "code",
      "execution_count": 9,
      "metadata": {},
      "outputs": [
        {
          "name": "stderr",
          "output_type": "stream",
          "text": [
            "/home/codespace/.python/current/lib/python3.10/site-packages/tqdm/auto.py:21: TqdmWarning: IProgress not found. Please update jupyter and ipywidgets. See https://ipywidgets.readthedocs.io/en/stable/user_install.html\n",
            "  from .autonotebook import tqdm as notebook_tqdm\n",
            "/home/codespace/.python/current/lib/python3.10/site-packages/umap/umap_.py:1945: UserWarning: n_jobs value 1 overridden to 1 by setting random_state. Use no seed for parallelism.\n",
            "  warn(f\"n_jobs value {self.n_jobs} overridden to 1 by setting random_state. Use no seed for parallelism.\")\n"
          ]
        }
      ],
      "source": [
        "from sklearn.decomposition import PCA\n",
        "from umap import UMAP\n",
        "\n",
        "# Initialize dimensionality reduction techniques\n",
        "pca = PCA(n_components=50, random_state=42)  # Adjust the number of components as needed\n",
        "umap = UMAP(n_components=2, random_state=42)\n",
        "\n",
        "# Apply dimensionality reduction\n",
        "x_pca = pca.fit_transform(x_resampled)\n",
        "x_umap = umap.fit_transform(x_resampled)\n"
      ]
    },
    {
      "cell_type": "code",
      "execution_count": 13,
      "metadata": {},
      "outputs": [],
      "source": [
        "x_pca = np.array(x_pca)\n",
        "x_umap = np.array(x_umap)"
      ]
    },
    {
      "cell_type": "code",
      "execution_count": 17,
      "metadata": {},
      "outputs": [],
      "source": [
        "# Fit and predict clusters for each algorithm on PCA-reduced data\n",
        "kmeans_labels_pca = kmeans.fit_predict(x_pca)"
      ]
    },
    {
      "cell_type": "code",
      "execution_count": 19,
      "metadata": {},
      "outputs": [],
      "source": [
        "hdbscan_labels_pca = hdbscan_clusterer.fit_predict(x_pca)"
      ]
    },
    {
      "cell_type": "code",
      "execution_count": 21,
      "metadata": {},
      "outputs": [],
      "source": [
        "# Fit and predict clusters for each algorithm on UMAP-reduced data\n",
        "kmeans_labels_umap = kmeans.fit_predict(x_umap)"
      ]
    },
    {
      "cell_type": "code",
      "execution_count": 22,
      "metadata": {},
      "outputs": [],
      "source": [
        "hdbscan_labels_umap = hdbscan_clusterer.fit_predict(x_umap)"
      ]
    },
    {
      "cell_type": "code",
      "execution_count": null,
      "metadata": {},
      "outputs": [],
      "source": []
    }
  ],
  "metadata": {
    "colab": {
      "authorship_tag": "ABX9TyNVZi1fgXpPMaOTUtAEUuzt",
      "include_colab_link": true,
      "provenance": []
    },
    "kernelspec": {
      "display_name": "Python 3",
      "name": "python3"
    },
    "language_info": {
      "codemirror_mode": {
        "name": "ipython",
        "version": 3
      },
      "file_extension": ".py",
      "mimetype": "text/x-python",
      "name": "python",
      "nbconvert_exporter": "python",
      "pygments_lexer": "ipython3",
      "version": "3.10.13"
    }
  },
  "nbformat": 4,
  "nbformat_minor": 0
}
